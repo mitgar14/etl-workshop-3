{
 "cells": [
  {
   "cell_type": "markdown",
   "metadata": {},
   "source": [
    "# ***World Happiness Report - Metrics***\n",
    "---\n",
    "In this notebook, we will evaluate the performance of the trained Machine Learning model using various evaluation metrics. \n",
    "\n",
    "This includes calculating metrics such as Mean Squared Error (MSE) and R-squared (R²) to assess the accuracy and effectiveness of the model's predictions. Additionally, we will visualize the model's performance comparing the predicted results with the original values."
   ]
  },
  {
   "cell_type": "markdown",
   "metadata": {},
   "source": [
    "## **Setting the notebook**\n",
    "\n",
    "First we will adjust the directory of our project in order to correctly detect the packages and modules that we are going to use."
   ]
  },
  {
   "cell_type": "code",
   "execution_count": 1,
   "metadata": {},
   "outputs": [],
   "source": [
    "import os\n",
    "\n",
    "try:\n",
    "    os.chdir(\"../../etl-workshop-3\")\n",
    "except FileNotFoundError:\n",
    "    print(\"You are already in the correct directory.\")"
   ]
  },
  {
   "cell_type": "markdown",
   "metadata": {},
   "source": [
    "We proceed to import the following for this notebook:\n",
    "\n",
    "### **Dependencies**\n",
    "\n",
    "* **Pandas** ➜ Used for data manipulation and analysis.\n",
    "\n",
    "* **Matplotlib** ➜ Used for creating static, animated, and interactive visualizations in Python.\n",
    "\n",
    "* **Seaborn** ➜ Used for statistical data visualization; provides a high-level interface for drawing attractive and informative statistical graphics.\n",
    "\n",
    "* **scikit-learn** ➜ Used for machine learning, providing simple and efficient tools for data analysis.\n",
    "\n",
    "    * *metrics.mean_squared_error* ➜ Calculates the mean squared error, a metric to evaluate the quality of predictions.\n",
    "\n",
    "    * *metrics.r2_score* ➜ Calculates the R² coefficient of determination to measure model fit.\n",
    "\n",
    "    * *metrics.explained_variance_score* ➜ Calculates the explained variance score. It indicates how well the model captures the underlying data patterns.\n",
    "\n",
    "### **Modules**\n",
    "\n",
    "* **src.database.db_operations** ➜ This module handles database operations, including creating and disposing of database connections and loading cleaned data into tables.\n",
    "\n",
    "    * *creating_engine* ➜ Creates a SQLAlchemy engine to connect to a PostgreSQL database using environment variables. If the database does not exist, it creates it.\n",
    "\n",
    "    * *disposing_engine* ➜ Disposes of the provided SQLAlchemy engine, freeing up resources associated with the database connection."
   ]
  },
  {
   "cell_type": "code",
   "execution_count": 2,
   "metadata": {},
   "outputs": [],
   "source": [
    "# Data Handling and Manipulation\n",
    "import pandas as pd\n",
    "\n",
    "# Data Visualization\n",
    "import matplotlib.pyplot as plt\n",
    "import seaborn as sns\n",
    "\n",
    "# Machine Learning\n",
    "from sklearn.metrics import mean_squared_error, r2_score, explained_variance_score\n",
    "\n",
    "# Python modules\n",
    "from src.database.db_operations import creating_engine, disposing_engine"
   ]
  },
  {
   "cell_type": "markdown",
   "metadata": {},
   "source": [
    "## **Reading the data**"
   ]
  },
  {
   "cell_type": "markdown",
   "metadata": {},
   "source": [
    "### **Dataframe with predictions**"
   ]
  },
  {
   "cell_type": "code",
   "execution_count": 3,
   "metadata": {},
   "outputs": [
    {
     "name": "stderr",
     "output_type": "stream",
     "text": [
      "06/11/2024 02:02:35 PM Engine created. You can now connect to the database.\n"
     ]
    }
   ],
   "source": [
    "engine = creating_engine()"
   ]
  },
  {
   "cell_type": "code",
   "execution_count": 4,
   "metadata": {},
   "outputs": [
    {
     "name": "stderr",
     "output_type": "stream",
     "text": [
      "06/11/2024 02:02:39 PM Engine disposed.\n"
     ]
    }
   ],
   "source": [
    "predicted_data = pd.read_sql_table(\"whr_predictions\", engine)\n",
    "disposing_engine(engine)"
   ]
  },
  {
   "cell_type": "code",
   "execution_count": 5,
   "metadata": {},
   "outputs": [
    {
     "data": {
      "text/html": [
       "<div>\n",
       "<style scoped>\n",
       "    .dataframe tbody tr th:only-of-type {\n",
       "        vertical-align: middle;\n",
       "    }\n",
       "\n",
       "    .dataframe tbody tr th {\n",
       "        vertical-align: top;\n",
       "    }\n",
       "\n",
       "    .dataframe thead th {\n",
       "        text-align: right;\n",
       "    }\n",
       "</style>\n",
       "<table border=\"1\" class=\"dataframe\">\n",
       "  <thead>\n",
       "    <tr style=\"text-align: right;\">\n",
       "      <th></th>\n",
       "      <th>id</th>\n",
       "      <th>year</th>\n",
       "      <th>economy</th>\n",
       "      <th>health</th>\n",
       "      <th>social_support</th>\n",
       "      <th>freedom</th>\n",
       "      <th>corruption_perception</th>\n",
       "      <th>generosity</th>\n",
       "      <th>continent_Africa</th>\n",
       "      <th>continent_Asia</th>\n",
       "      <th>continent_Europe</th>\n",
       "      <th>continent_North_America</th>\n",
       "      <th>continent_Central_America</th>\n",
       "      <th>continent_South_America</th>\n",
       "      <th>continent_Oceania</th>\n",
       "      <th>happiness_score</th>\n",
       "      <th>predicted_happiness_score</th>\n",
       "    </tr>\n",
       "  </thead>\n",
       "  <tbody>\n",
       "    <tr>\n",
       "      <th>0</th>\n",
       "      <td>776</td>\n",
       "      <td>2019</td>\n",
       "      <td>0.28700</td>\n",
       "      <td>0.46300</td>\n",
       "      <td>1.16300</td>\n",
       "      <td>0.14300</td>\n",
       "      <td>0.07700</td>\n",
       "      <td>0.10800</td>\n",
       "      <td>False</td>\n",
       "      <td>True</td>\n",
       "      <td>False</td>\n",
       "      <td>False</td>\n",
       "      <td>False</td>\n",
       "      <td>False</td>\n",
       "      <td>False</td>\n",
       "      <td>3.380</td>\n",
       "      <td>4.24450</td>\n",
       "    </tr>\n",
       "    <tr>\n",
       "      <th>1</th>\n",
       "      <td>761</td>\n",
       "      <td>2019</td>\n",
       "      <td>0.33200</td>\n",
       "      <td>0.44300</td>\n",
       "      <td>1.06900</td>\n",
       "      <td>0.35600</td>\n",
       "      <td>0.06000</td>\n",
       "      <td>0.25200</td>\n",
       "      <td>True</td>\n",
       "      <td>False</td>\n",
       "      <td>False</td>\n",
       "      <td>False</td>\n",
       "      <td>False</td>\n",
       "      <td>False</td>\n",
       "      <td>False</td>\n",
       "      <td>4.189</td>\n",
       "      <td>4.11598</td>\n",
       "    </tr>\n",
       "    <tr>\n",
       "      <th>2</th>\n",
       "      <td>207</td>\n",
       "      <td>2016</td>\n",
       "      <td>1.35495</td>\n",
       "      <td>0.85102</td>\n",
       "      <td>1.04167</td>\n",
       "      <td>0.18827</td>\n",
       "      <td>0.02556</td>\n",
       "      <td>0.16684</td>\n",
       "      <td>False</td>\n",
       "      <td>False</td>\n",
       "      <td>True</td>\n",
       "      <td>False</td>\n",
       "      <td>False</td>\n",
       "      <td>False</td>\n",
       "      <td>False</td>\n",
       "      <td>5.977</td>\n",
       "      <td>5.97114</td>\n",
       "    </tr>\n",
       "    <tr>\n",
       "      <th>3</th>\n",
       "      <td>620</td>\n",
       "      <td>2018</td>\n",
       "      <td>0.33200</td>\n",
       "      <td>0.40000</td>\n",
       "      <td>0.89600</td>\n",
       "      <td>0.63600</td>\n",
       "      <td>0.44400</td>\n",
       "      <td>0.20000</td>\n",
       "      <td>True</td>\n",
       "      <td>False</td>\n",
       "      <td>False</td>\n",
       "      <td>False</td>\n",
       "      <td>False</td>\n",
       "      <td>False</td>\n",
       "      <td>False</td>\n",
       "      <td>3.408</td>\n",
       "      <td>4.04796</td>\n",
       "    </tr>\n",
       "    <tr>\n",
       "      <th>4</th>\n",
       "      <td>506</td>\n",
       "      <td>2018</td>\n",
       "      <td>0.96000</td>\n",
       "      <td>0.63500</td>\n",
       "      <td>1.43900</td>\n",
       "      <td>0.53100</td>\n",
       "      <td>0.03900</td>\n",
       "      <td>0.09900</td>\n",
       "      <td>False</td>\n",
       "      <td>False</td>\n",
       "      <td>False</td>\n",
       "      <td>False</td>\n",
       "      <td>False</td>\n",
       "      <td>True</td>\n",
       "      <td>False</td>\n",
       "      <td>6.260</td>\n",
       "      <td>5.83752</td>\n",
       "    </tr>\n",
       "  </tbody>\n",
       "</table>\n",
       "</div>"
      ],
      "text/plain": [
       "    id  year  economy   health  social_support  freedom  \\\n",
       "0  776  2019  0.28700  0.46300         1.16300  0.14300   \n",
       "1  761  2019  0.33200  0.44300         1.06900  0.35600   \n",
       "2  207  2016  1.35495  0.85102         1.04167  0.18827   \n",
       "3  620  2018  0.33200  0.40000         0.89600  0.63600   \n",
       "4  506  2018  0.96000  0.63500         1.43900  0.53100   \n",
       "\n",
       "   corruption_perception  generosity  continent_Africa  continent_Asia  \\\n",
       "0                0.07700     0.10800             False            True   \n",
       "1                0.06000     0.25200              True           False   \n",
       "2                0.02556     0.16684             False           False   \n",
       "3                0.44400     0.20000              True           False   \n",
       "4                0.03900     0.09900             False           False   \n",
       "\n",
       "   continent_Europe  continent_North_America  continent_Central_America  \\\n",
       "0             False                    False                      False   \n",
       "1             False                    False                      False   \n",
       "2              True                    False                      False   \n",
       "3             False                    False                      False   \n",
       "4             False                    False                      False   \n",
       "\n",
       "   continent_South_America  continent_Oceania  happiness_score  \\\n",
       "0                    False              False            3.380   \n",
       "1                    False              False            4.189   \n",
       "2                    False              False            5.977   \n",
       "3                    False              False            3.408   \n",
       "4                     True              False            6.260   \n",
       "\n",
       "   predicted_happiness_score  \n",
       "0                    4.24450  \n",
       "1                    4.11598  \n",
       "2                    5.97114  \n",
       "3                    4.04796  \n",
       "4                    5.83752  "
      ]
     },
     "execution_count": 5,
     "metadata": {},
     "output_type": "execute_result"
    }
   ],
   "source": [
    "predicted_data.head()"
   ]
  },
  {
   "cell_type": "markdown",
   "metadata": {},
   "source": [
    "### **Dataframe before predictions were made**"
   ]
  },
  {
   "cell_type": "code",
   "execution_count": 6,
   "metadata": {},
   "outputs": [],
   "source": [
    "before_predict_data = pd.read_csv(\"./data/world_happiness_report.csv\")"
   ]
  },
  {
   "cell_type": "code",
   "execution_count": 7,
   "metadata": {},
   "outputs": [
    {
     "data": {
      "text/html": [
       "<div>\n",
       "<style scoped>\n",
       "    .dataframe tbody tr th:only-of-type {\n",
       "        vertical-align: middle;\n",
       "    }\n",
       "\n",
       "    .dataframe tbody tr th {\n",
       "        vertical-align: top;\n",
       "    }\n",
       "\n",
       "    .dataframe thead th {\n",
       "        text-align: right;\n",
       "    }\n",
       "</style>\n",
       "<table border=\"1\" class=\"dataframe\">\n",
       "  <thead>\n",
       "    <tr style=\"text-align: right;\">\n",
       "      <th></th>\n",
       "      <th>country</th>\n",
       "      <th>continent</th>\n",
       "      <th>year</th>\n",
       "      <th>economy</th>\n",
       "      <th>health</th>\n",
       "      <th>social_support</th>\n",
       "      <th>freedom</th>\n",
       "      <th>corruption_perception</th>\n",
       "      <th>generosity</th>\n",
       "      <th>happiness_rank</th>\n",
       "      <th>happiness_score</th>\n",
       "    </tr>\n",
       "  </thead>\n",
       "  <tbody>\n",
       "    <tr>\n",
       "      <th>0</th>\n",
       "      <td>Switzerland</td>\n",
       "      <td>Europe</td>\n",
       "      <td>2015</td>\n",
       "      <td>1.39651</td>\n",
       "      <td>0.94143</td>\n",
       "      <td>1.34951</td>\n",
       "      <td>0.66557</td>\n",
       "      <td>0.41978</td>\n",
       "      <td>0.29678</td>\n",
       "      <td>1</td>\n",
       "      <td>7.587</td>\n",
       "    </tr>\n",
       "    <tr>\n",
       "      <th>1</th>\n",
       "      <td>Iceland</td>\n",
       "      <td>Europe</td>\n",
       "      <td>2015</td>\n",
       "      <td>1.30232</td>\n",
       "      <td>0.94784</td>\n",
       "      <td>1.40223</td>\n",
       "      <td>0.62877</td>\n",
       "      <td>0.14145</td>\n",
       "      <td>0.43630</td>\n",
       "      <td>2</td>\n",
       "      <td>7.561</td>\n",
       "    </tr>\n",
       "    <tr>\n",
       "      <th>2</th>\n",
       "      <td>Denmark</td>\n",
       "      <td>Europe</td>\n",
       "      <td>2015</td>\n",
       "      <td>1.32548</td>\n",
       "      <td>0.87464</td>\n",
       "      <td>1.36058</td>\n",
       "      <td>0.64938</td>\n",
       "      <td>0.48357</td>\n",
       "      <td>0.34139</td>\n",
       "      <td>3</td>\n",
       "      <td>7.527</td>\n",
       "    </tr>\n",
       "    <tr>\n",
       "      <th>3</th>\n",
       "      <td>Norway</td>\n",
       "      <td>Europe</td>\n",
       "      <td>2015</td>\n",
       "      <td>1.45900</td>\n",
       "      <td>0.88521</td>\n",
       "      <td>1.33095</td>\n",
       "      <td>0.66973</td>\n",
       "      <td>0.36503</td>\n",
       "      <td>0.34699</td>\n",
       "      <td>4</td>\n",
       "      <td>7.522</td>\n",
       "    </tr>\n",
       "    <tr>\n",
       "      <th>4</th>\n",
       "      <td>Canada</td>\n",
       "      <td>North America</td>\n",
       "      <td>2015</td>\n",
       "      <td>1.32629</td>\n",
       "      <td>0.90563</td>\n",
       "      <td>1.32261</td>\n",
       "      <td>0.63297</td>\n",
       "      <td>0.32957</td>\n",
       "      <td>0.45811</td>\n",
       "      <td>5</td>\n",
       "      <td>7.427</td>\n",
       "    </tr>\n",
       "  </tbody>\n",
       "</table>\n",
       "</div>"
      ],
      "text/plain": [
       "       country      continent  year  economy   health  social_support  \\\n",
       "0  Switzerland         Europe  2015  1.39651  0.94143         1.34951   \n",
       "1      Iceland         Europe  2015  1.30232  0.94784         1.40223   \n",
       "2      Denmark         Europe  2015  1.32548  0.87464         1.36058   \n",
       "3       Norway         Europe  2015  1.45900  0.88521         1.33095   \n",
       "4       Canada  North America  2015  1.32629  0.90563         1.32261   \n",
       "\n",
       "   freedom  corruption_perception  generosity  happiness_rank  happiness_score  \n",
       "0  0.66557                0.41978     0.29678               1            7.587  \n",
       "1  0.62877                0.14145     0.43630               2            7.561  \n",
       "2  0.64938                0.48357     0.34139               3            7.527  \n",
       "3  0.66973                0.36503     0.34699               4            7.522  \n",
       "4  0.63297                0.32957     0.45811               5            7.427  "
      ]
     },
     "execution_count": 7,
     "metadata": {},
     "output_type": "execute_result"
    }
   ],
   "source": [
    "before_predict_data.head()"
   ]
  },
  {
   "cell_type": "markdown",
   "metadata": {},
   "source": [
    "## ***Reviewing the Random Forest model***"
   ]
  },
  {
   "cell_type": "markdown",
   "metadata": {},
   "source": [
    "### **MSE, R² and Explained Variance Score metrics**\n",
    "\n",
    "* **Mean Squared Error (MSE)**: Lower values indicate better model performance. The acceptable range depends on the scale of the target variable; it is essential to compare MSE across models on the same dataset.\n",
    "\n",
    "* **R² (R-squared)**: Values range from 0 to 1, with higher values indicating a better fit. An R² closer to 1 suggests that the model explains a significant portion of the variance in the target variable\n",
    "\n",
    "* **Explained Variance Score**: Similar to R², values closer to 1 indicate that the model captures more of the data's variance. A higher explained variance score denotes a more effective model."
   ]
  },
  {
   "cell_type": "code",
   "execution_count": 8,
   "metadata": {},
   "outputs": [],
   "source": [
    "y_original = predicted_data[\"happiness_score\"]\n",
    "y_predicted = predicted_data[\"predicted_happiness_score\"]"
   ]
  },
  {
   "cell_type": "code",
   "execution_count": 9,
   "metadata": {},
   "outputs": [
    {
     "name": "stdout",
     "output_type": "stream",
     "text": [
      "Mean Squared Error: 0.17005002768093916\n",
      "R2 Score: 0.865563527160472\n",
      "Explained Variance Score: 0.866193978430946\n"
     ]
    }
   ],
   "source": [
    "mse = mean_squared_error(y_original, y_predicted)\n",
    "r2 = r2_score(y_original, y_predicted)\n",
    "exp_var = explained_variance_score(y_original, y_predicted)\n",
    "\n",
    "print(f\"Mean Squared Error: {mse}\")\n",
    "print(f\"R2 Score: {r2}\")\n",
    "print(f\"Explained Variance Score: {exp_var}\")"
   ]
  },
  {
   "cell_type": "markdown",
   "metadata": {},
   "source": [
    "### **Original vs Predicted values**\n",
    "\n",
    "This graphic compares the actual target values with the values predicted by the regression model. By visualizing both sets of values on the same plot, it allows for an assessment of the model's accuracy. \n",
    "\n",
    "Ideally, the predicted values should closely follow the original values, indicating a strong model performance. Significant deviations from the ideal alignment can highlight areas where the model may need improvement."
   ]
  },
  {
   "cell_type": "code",
   "execution_count": 10,
   "metadata": {},
   "outputs": [
    {
     "data": {
      "image/png": "[encoded data removed]",
      "text/plain": [
       "<Figure size 1000x600 with 1 Axes>"
      ]
     },
     "metadata": {},
     "output_type": "display_data"
    }
   ],
   "source": [
    "sns.set_palette(\"flare\")\n",
    "\n",
    "plt.figure(figsize=(10, 6))\n",
    "\n",
    "plt.scatter(y_original, y_predicted, label=\"Predicted vs Original\", color=sns.color_palette()[0], alpha=0.7)\n",
    "\n",
    "min_val = min(y_original.min(), y_predicted.min())\n",
    "max_val = max(y_original.max(), y_predicted.max())\n",
    "plt.plot([min_val, max_val], [min_val, max_val], color=sns.color_palette()[1], linestyle=\"--\", label=\"Min-Max Line\")\n",
    "\n",
    "plt.xlabel(\"Original\")\n",
    "plt.ylabel(\"Predicted\")\n",
    "plt.title(\"Comparison of Original and Predicted Happiness Scores\")\n",
    "plt.legend()\n",
    "\n",
    "plt.show()"
   ]
  },
  {
   "cell_type": "markdown",
   "metadata": {},
   "source": [
    "### **Average Happiness Score by Continent (Original vs Predicted Values)**"
   ]
  },
  {
   "cell_type": "markdown",
   "metadata": {},
   "source": [
    "In this section, we process the predicted data to convert dummy variables representing continents back into a single categorical column. We then calculate the average happiness score for each continent in both the original and predicted datasets."
   ]
  },
  {
   "cell_type": "code",
   "execution_count": 11,
   "metadata": {},
   "outputs": [],
   "source": [
    "continent_columns = [col for col in predicted_data.columns if col.startswith('continent_')]\n",
    "predicted_data['continent'] = predicted_data[continent_columns].idxmax(axis=1).str.replace('continent_', '')\n",
    "\n",
    "avg_happiness_predicted = predicted_data.groupby(\"continent\")[\"predicted_happiness_score\"].mean().reset_index()\n",
    "avg_happiness_original = before_predict_data.groupby(\"continent\")[\"happiness_score\"].mean().reset_index()\n",
    "\n",
    "avg_happiness = pd.merge(avg_happiness_original, avg_happiness_predicted, on=\"continent\", suffixes=(\"_original\", \"_predicted\"))"
   ]
  },
  {
   "cell_type": "markdown",
   "metadata": {},
   "source": [
    "After that we visualize the average happiness scores by continent, comparing the original data with the predicted data."
   ]
  },
  {
   "cell_type": "code",
   "execution_count": 12,
   "metadata": {},
   "outputs": [
    {
     "data": {
      "image/png": "[encoded data removed]",
      "text/plain": [
       "<Figure size 1200x800 with 1 Axes>"
      ]
     },
     "metadata": {},
     "output_type": "display_data"
    }
   ],
   "source": [
    "plt.figure(figsize=(12, 8))\n",
    "\n",
    "plt.barh(avg_happiness[\"continent\"], avg_happiness[\"happiness_score\"], color='skyblue', label='Original')\n",
    "\n",
    "plt.barh(avg_happiness[\"continent\"], avg_happiness[\"predicted_happiness_score\"], color='salmon', alpha=0.7, label='Predicted')\n",
    "\n",
    "plt.xlabel(\"Average Happiness Score\")\n",
    "plt.ylabel(\"Continent\")\n",
    "plt.title(\"Average Happiness Score by Continent (Original vs Predicted)\")\n",
    "plt.legend()\n",
    "\n",
    "plt.show()"
   ]
  }
 ],
 "metadata": {
  "kernelspec": {
   "display_name": "etl-workshop-3-OXvWCWU5-py3.12",
   "language": "python",
   "name": "python3"
  },
  "language_info": {
   "codemirror_mode": {
    "name": "ipython",
    "version": 3
   },
   "file_extension": ".py",
   "mimetype": "text/x-python",
   "name": "python",
   "nbconvert_exporter": "python",
   "pygments_lexer": "ipython3",
   "version": "3.12.3"
  }
 },
 "nbformat": 4,
 "nbformat_minor": 2
}
