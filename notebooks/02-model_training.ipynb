{
 "cells": [
  {
   "cell_type": "markdown",
   "metadata": {},
   "source": [
    "# ***World Happiness Report - Model Training and Metrics***\n",
    "---\n",
    "In this notebook, we will carry out the training of a Machine Learning model using the World Happiness Report dataset. This process will include several key steps, such as Data Preprocessing, Dataset Splitting, Model Selection and Training, Model Evaluation and, if necessary, Hyperparameter Tuning. Finally, we will interpret the obtained results."
   ]
  }
 ],
 "metadata": {
  "language_info": {
   "name": "python"
  }
 },
 "nbformat": 4,
 "nbformat_minor": 2
}
